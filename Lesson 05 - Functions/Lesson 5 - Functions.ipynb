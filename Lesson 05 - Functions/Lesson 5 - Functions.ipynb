{
 "cells": [
  {
   "cell_type": "markdown",
   "metadata": {},
   "source": [
    "# Functions"
   ]
  },
  {
   "cell_type": "markdown",
   "metadata": {},
   "source": [
    "__Contents:__\n",
    "- Defining Functions\n",
    "- Variable Scope\n",
    "- Documentation\n",
    "- Lambda Expressions\n",
    "- Iterators and Generators"
   ]
  },
  {
   "cell_type": "markdown",
   "metadata": {},
   "source": [
    "### 1. Defining a Function\n",
    "- Functions can be described a way to take what you have already learned how to do, and put it in a holder that allows you to use it over and over again in an easy to use container"
   ]
  },
  {
   "cell_type": "markdown",
   "metadata": {},
   "source": [
    "#### Function Header\n",
    "- The function header always starts with __def__ keyword, which indicates that this is a function definition.\n",
    "- Then, comes the __function name__  here, it is __cylinder_volume__, which follows the same naming conventions as variables.\n",
    "- Immediately after the name are __parentheses that may include arguments separted by commas__, here __height__ and __radius__. Arguments or paramenters are values that are passed in as inputs when the function is called and are used in function body. If the __function does not take arguments__, these __parentheses are left empty__.\n",
    "- The __header always end with a colon__."
   ]
  },
  {
   "cell_type": "markdown",
   "metadata": {},
   "source": [
    "#### Function Body\n",
    "- The body of a function is the code indented after the header line. Here, it is the two lines that define __pi__ and __return__ the volume.\n",
    "- Within this body, we can refer to the __argument variables__ and __define new variables__, which can only be used within these indented lines.\n",
    "- The body will often include a return statement, which is used to send back an __output value__ from the function to the statement that called the function. A __return__  statement consists of the __return__ keyword followed by an expression that is evaluated to get the output value for the function. If there is no __return__ statement, the function simply returns __None__\n"
   ]
  },
  {
   "cell_type": "markdown",
   "metadata": {},
   "source": [
    "#### Naming Conventions for Functions\n",
    "- Function names follow the same naming conventions as variables."
   ]
  },
  {
   "cell_type": "code",
   "execution_count": 1,
   "metadata": {},
   "outputs": [
    {
     "data": {
      "text/plain": [
       "282.7431"
      ]
     },
     "execution_count": 1,
     "metadata": {},
     "output_type": "execute_result"
    }
   ],
   "source": [
    "# Example of a function definition:\n",
    "def cylinder_volume(height, radius):\n",
    "    pi = 3.14159 # Local Variable\n",
    "    return height * pi * (radius ** 2)\n",
    "# After defining the cylinder_volume function, we can call the function like this.\n",
    "# This is called a function call statement.\n",
    "cylinder_volume(10, 3)"
   ]
  },
  {
   "cell_type": "code",
   "execution_count": 2,
   "metadata": {},
   "outputs": [
    {
     "data": {
      "text/plain": [
       "282.7431"
      ]
     },
     "execution_count": 2,
     "metadata": {},
     "output_type": "execute_result"
    }
   ],
   "source": [
    "def cylinder_volume(height, radius):\n",
    "    pi = 3.14159\n",
    "    volume = height * pi * (radius ** 2)\n",
    "    return volume\n",
    "\n",
    "cylinder_volume(10, 3)"
   ]
  },
  {
   "cell_type": "code",
   "execution_count": 3,
   "metadata": {},
   "outputs": [
    {
     "name": "stdout",
     "output_type": "stream",
     "text": [
      "Hello World!\n"
     ]
    }
   ],
   "source": [
    "def print_greeting():\n",
    "    print('Hello World!')\n",
    "    \n",
    "print_greeting()"
   ]
  },
  {
   "cell_type": "code",
   "execution_count": 4,
   "metadata": {},
   "outputs": [],
   "source": [
    "def cylinder_volume(height, radius=5):\n",
    "    pi = 3.14159\n",
    "    return height * pi * radius ** 2\n",
    "# Default argument for the radius is 5"
   ]
  },
  {
   "cell_type": "markdown",
   "metadata": {},
   "source": [
    "#### Print vs Return in Functions"
   ]
  },
  {
   "cell_type": "code",
   "execution_count": 5,
   "metadata": {},
   "outputs": [],
   "source": [
    "# This prints something, but does not return anything\n",
    "def show_plus_ten(num):\n",
    "    print(num + 10)"
   ]
  },
  {
   "cell_type": "code",
   "execution_count": 6,
   "metadata": {},
   "outputs": [
    {
     "name": "stdout",
     "output_type": "stream",
     "text": [
      "15\n"
     ]
    }
   ],
   "source": [
    "return_value_1 = show_plus_ten(5)"
   ]
  },
  {
   "cell_type": "code",
   "execution_count": 7,
   "metadata": {},
   "outputs": [],
   "source": [
    "# this returns something\n",
    "def add_ten(num):\n",
    "    return(num + 10)"
   ]
  },
  {
   "cell_type": "code",
   "execution_count": 8,
   "metadata": {},
   "outputs": [],
   "source": [
    "return_value_2 = add_ten(5)"
   ]
  },
  {
   "cell_type": "code",
   "execution_count": 9,
   "metadata": {},
   "outputs": [
    {
     "data": {
      "text/plain": [
       "15"
      ]
     },
     "execution_count": 9,
     "metadata": {},
     "output_type": "execute_result"
    }
   ],
   "source": [
    "return_value_2"
   ]
  },
  {
   "cell_type": "markdown",
   "metadata": {},
   "source": [
    "#### Default Agruments\n",
    "- default arguments are used when that argument is absent from the function.\n",
    "- radius is set to 3 __if that parameter is omitted__ in a function call. If we call cylinder_volume(10), then the function will use 10 as the height and 3 as the radius\n",
    "- However, if we call cylinder_volume(10, 7) the 7 will simply __overwrite the default value of 3__."
   ]
  },
  {
   "cell_type": "code",
   "execution_count": 10,
   "metadata": {},
   "outputs": [
    {
     "data": {
      "text/plain": [
       "282.7431"
      ]
     },
     "execution_count": 10,
     "metadata": {},
     "output_type": "execute_result"
    }
   ],
   "source": [
    "def cylinder_volume(height, radius = 3):\n",
    "    pi = 3.14159\n",
    "    volume = height * pi * (radius ** 2)\n",
    "    return volume\n",
    "\n",
    "cylinder_volume(10)"
   ]
  },
  {
   "cell_type": "code",
   "execution_count": 11,
   "metadata": {},
   "outputs": [
    {
     "name": "stdout",
     "output_type": "stream",
     "text": [
      "282.7431\n",
      "282.7431\n",
      "1539.3791\n",
      "1539.3791\n"
     ]
    }
   ],
   "source": [
    "def cylinder_volume(height, radius = 3):\n",
    "    pi = 3.14159\n",
    "    volume = height * pi * (radius ** 2)\n",
    "    return volume\n",
    "\n",
    "print(cylinder_volume(10))\n",
    "print(cylinder_volume(10, 3))\n",
    "print(cylinder_volume(10, 7)) # pass in arguments by position\n",
    "print(cylinder_volume(radius =7, height =10)) # pass in arguments by name"
   ]
  },
  {
   "cell_type": "code",
   "execution_count": 12,
   "metadata": {},
   "outputs": [
    {
     "name": "stdout",
     "output_type": "stream",
     "text": [
      "expected result: 10, actual result: 10.0\n"
     ]
    }
   ],
   "source": [
    "# Defining population density\n",
    "def population_density(population, land_area):\n",
    "    pop_density = population / land_area\n",
    "    return pop_density\n",
    "\n",
    "\n",
    "\n",
    "# test cases for your function\n",
    "test1 = population_density(10, 1)\n",
    "expected_result1 = 10\n",
    "print(\"expected result: {}, actual result: {}\".format(expected_result1, test1))"
   ]
  },
  {
   "cell_type": "code",
   "execution_count": 13,
   "metadata": {},
   "outputs": [
    {
     "data": {
      "text/plain": [
       "'1 week(s) and 3 day(s).'"
      ]
     },
     "execution_count": 13,
     "metadata": {},
     "output_type": "execute_result"
    }
   ],
   "source": [
    "# Write days in week(s) and day(s) using function\n",
    "def readable_timedelta(days):\n",
    "    weeks = days // 7\n",
    "    remainder = days % 7\n",
    "    return '{} week(s) and {} day(s).'.format(weeks, remainder)\n",
    "\n",
    "readable_timedelta(10)"
   ]
  },
  {
   "cell_type": "markdown",
   "metadata": {},
   "source": [
    "### 2. Variable Scope"
   ]
  },
  {
   "cell_type": "markdown",
   "metadata": {},
   "source": [
    "Variable Scope refers to which parts of a program a variable can be referenced, or used from\n",
    "- If a variable is created __inside a function__, it can only be used within that function, accessing that from outside is not possible, in that case it is __local__\n",
    "- If a variable is created __outside a function__, can still be accessed within a function, in that case it is __global__\n",
    "- __Note:__ The value of a global variable can not be modified inside the function. If you want to modify that variable's value inside this function, it should be passed as an argument."
   ]
  },
  {
   "cell_type": "code",
   "execution_count": 14,
   "metadata": {},
   "outputs": [
    {
     "data": {
      "text/plain": [
       "'hello'"
      ]
     },
     "execution_count": 14,
     "metadata": {},
     "output_type": "execute_result"
    }
   ],
   "source": [
    "# variable word have a local scope\n",
    "def some_function():\n",
    "    word = 'hello'\n",
    "    return word\n",
    "\n",
    "some_function()"
   ]
  },
  {
   "cell_type": "code",
   "execution_count": 15,
   "metadata": {},
   "outputs": [
    {
     "data": {
      "text/plain": [
       "'hello'"
      ]
     },
     "execution_count": 15,
     "metadata": {},
     "output_type": "execute_result"
    }
   ],
   "source": [
    "# variable word have a global scope\n",
    "word = 'hello'\n",
    "\n",
    "def some_function():\n",
    "    return word\n",
    "\n",
    "some_function()"
   ]
  },
  {
   "cell_type": "markdown",
   "metadata": {},
   "source": [
    "#### Modifying the value of a global varible (This will throw an ERROR)\n",
    "egg_count = 0\n",
    "\n",
    " def buy_eggs():\\\n",
    " &emsp; egg_count = egg_count + 12\\\n",
    " buy_eggs()"
   ]
  },
  {
   "cell_type": "code",
   "execution_count": 16,
   "metadata": {},
   "outputs": [
    {
     "data": {
      "text/plain": [
       "16"
      ]
     },
     "execution_count": 16,
     "metadata": {},
     "output_type": "execute_result"
    }
   ],
   "source": [
    "# If you want to modify that variable's value inside this function, it should be passed as an argument. \n",
    "egg_count = 0\n",
    "\n",
    "def buy_eggs(count):\n",
    "    return count + 12  # purchase a dozen eggs\n",
    "\n",
    "egg_count = buy_eggs(egg_count)\n",
    "\n",
    "buy_eggs(4)"
   ]
  },
  {
   "cell_type": "markdown",
   "metadata": {},
   "source": [
    "### 3. Documentation"
   ]
  },
  {
   "cell_type": "markdown",
   "metadata": {},
   "source": [
    "- Documentation is used to make your code easier to understand and use. Functions are especially readable because they often use documentation strings, or docstrings. Docstrings are a type of comment used to explain the purpose of a function, and how it should be used. Here's a function for population density with a docstring.\n",
    "- __Docstrings__ are surrounded by triple quotes. Docstring is a brief explanation of the function's purpose and how it is used."
   ]
  },
  {
   "cell_type": "code",
   "execution_count": 17,
   "metadata": {},
   "outputs": [
    {
     "data": {
      "text/plain": [
       "10000.0"
      ]
     },
     "execution_count": 17,
     "metadata": {},
     "output_type": "execute_result"
    }
   ],
   "source": [
    "def population_density(population, land_area):\n",
    "    \"\"\"Calculate the population density of an area. \"\"\"\n",
    "    return population / land_area\n",
    "\n",
    "population_density(20000, 2)"
   ]
  },
  {
   "cell_type": "code",
   "execution_count": 18,
   "metadata": {},
   "outputs": [
    {
     "data": {
      "text/plain": [
       "10000.0"
      ]
     },
     "execution_count": 18,
     "metadata": {},
     "output_type": "execute_result"
    }
   ],
   "source": [
    "def population_density(population, land_area):\n",
    "    \"\"\"Calculate the population density of an area.\n",
    "\n",
    "    INPUT:\n",
    "    population: int. The population of that area\n",
    "    land_area: int or float. This function is unit-agnostic, if you pass in values in terms\n",
    "    of square km or square miles the function will return a density in those units.\n",
    "\n",
    "    OUTPUT: \n",
    "    population_density: population / land_area. The population density of a particular area.\n",
    "    \"\"\"\n",
    "    return population / land_area\n",
    "\n",
    "population_density(20000, 2)"
   ]
  },
  {
   "cell_type": "markdown",
   "metadata": {},
   "source": [
    "### 4. Lambda Expressions"
   ]
  },
  {
   "cell_type": "markdown",
   "metadata": {},
   "source": [
    "- you can use lambda expressions to create anonymous functions. That is, the functions that don't have a name.\n",
    "- They are helpful for creating quick functions that aren't needed later in your code."
   ]
  },
  {
   "cell_type": "markdown",
   "metadata": {},
   "source": [
    "#### Components of lambda functions\n",
    "- The __lambda__ keyword is used to indicatecthat this is a lambda expression.\n",
    "- Following __lambda__ are one or more arguments functions separated by commas, followed by a colon __:__\n",
    "- Last is an __expression that is evaluated and returned__ in this function. This is a lot like an expression you might see as a return statement in a function.\n",
    "- These are functions without any name, they are quick functions which may not be required later."
   ]
  },
  {
   "cell_type": "code",
   "execution_count": 19,
   "metadata": {},
   "outputs": [
    {
     "name": "stdout",
     "output_type": "stream",
     "text": [
      "12\n"
     ]
    }
   ],
   "source": [
    "# This is the regukar function\n",
    "def multiply(x,y):\n",
    "    return x*y\n",
    "\n",
    "print(multiply(3,4))"
   ]
  },
  {
   "cell_type": "code",
   "execution_count": 20,
   "metadata": {},
   "outputs": [
    {
     "name": "stdout",
     "output_type": "stream",
     "text": [
      "12\n"
     ]
    }
   ],
   "source": [
    "# Lambda Function\n",
    "multiply = lambda x, y: x * y\n",
    "\n",
    "print(multiply(3,4))"
   ]
  },
  {
   "cell_type": "code",
   "execution_count": 22,
   "metadata": {},
   "outputs": [
    {
     "name": "stdout",
     "output_type": "stream",
     "text": [
      "10\n"
     ]
    }
   ],
   "source": [
    "double = lambda x: x * 2\n",
    "\n",
    "print(double(5))"
   ]
  },
  {
   "cell_type": "code",
   "execution_count": null,
   "metadata": {},
   "outputs": [],
   "source": []
  }
 ],
 "metadata": {
  "kernelspec": {
   "display_name": "Python 3",
   "language": "python",
   "name": "python3"
  },
  "language_info": {
   "codemirror_mode": {
    "name": "ipython",
    "version": 3
   },
   "file_extension": ".py",
   "mimetype": "text/x-python",
   "name": "python",
   "nbconvert_exporter": "python",
   "pygments_lexer": "ipython3",
   "version": "3.8.5"
  }
 },
 "nbformat": 4,
 "nbformat_minor": 4
}
