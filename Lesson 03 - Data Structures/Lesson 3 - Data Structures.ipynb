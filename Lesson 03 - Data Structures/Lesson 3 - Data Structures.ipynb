{
 "cells": [
  {
   "cell_type": "markdown",
   "metadata": {},
   "source": [
    "# Data Structures"
   ]
  },
  {
   "cell_type": "markdown",
   "metadata": {},
   "source": [
    "Topics:\n",
    "- Types of Data Structures: Lists, Tuples, Sets, Dictionaries, Compound Data Structures\n",
    "- Operators: Membership, Identity\n",
    "- Built-In Functions or Methods"
   ]
  },
  {
   "cell_type": "markdown",
   "metadata": {},
   "source": [
    "### 1. List and Membership Operators"
   ]
  },
  {
   "cell_type": "markdown",
   "metadata": {},
   "source": [
    "#### Data Structures are containers that organize and group data types together in different ways\n",
    "\n",
    "#### Lists\n",
    "- A data type for mutable ordered sequences of elements \n",
    "- You can create a list with square brackets\n",
    "- Lists can contain any mix and match of the data types\n",
    "- They are ordered"
   ]
  },
  {
   "cell_type": "code",
   "execution_count": 1,
   "metadata": {},
   "outputs": [
    {
     "name": "stdout",
     "output_type": "stream",
     "text": [
      "[1, 3.4, ' a string', True]\n"
     ]
    }
   ],
   "source": [
    "list_of_random_things = [1, 3.4, ' a string', True]\n",
    "print(list_of_random_things)"
   ]
  },
  {
   "cell_type": "markdown",
   "metadata": {},
   "source": [
    "#### Indexing\n",
    "- Normal indexing that goes from left to right starts from 0\n",
    "- Negative indexing starts from -1\n",
    "- IndexError comes when you try to pull index out of range"
   ]
  },
  {
   "cell_type": "code",
   "execution_count": 2,
   "metadata": {},
   "outputs": [
    {
     "data": {
      "text/plain": [
       "1"
      ]
     },
     "execution_count": 2,
     "metadata": {},
     "output_type": "execute_result"
    }
   ],
   "source": [
    "# To pull the first value from the above list\n",
    "list_of_random_things[0]"
   ]
  },
  {
   "cell_type": "code",
   "execution_count": 3,
   "metadata": {},
   "outputs": [
    {
     "data": {
      "text/plain": [
       "' a string'"
      ]
     },
     "execution_count": 3,
     "metadata": {},
     "output_type": "execute_result"
    }
   ],
   "source": [
    "# To pull the third value from the above list\n",
    "list_of_random_things[2]"
   ]
  },
  {
   "cell_type": "code",
   "execution_count": 4,
   "metadata": {},
   "outputs": [
    {
     "data": {
      "text/plain": [
       "True"
      ]
     },
     "execution_count": 4,
     "metadata": {},
     "output_type": "execute_result"
    }
   ],
   "source": [
    "# To pull the last value from the above list\n",
    "list_of_random_things[-1]"
   ]
  },
  {
   "cell_type": "code",
   "execution_count": 5,
   "metadata": {},
   "outputs": [
    {
     "data": {
      "text/plain": [
       "3.4"
      ]
     },
     "execution_count": 5,
     "metadata": {},
     "output_type": "execute_result"
    }
   ],
   "source": [
    "# To pull the third last value from the above list\n",
    "list_of_random_things[-3]"
   ]
  },
  {
   "cell_type": "markdown",
   "metadata": {},
   "source": [
    "#### Slice and Dice with Lists\n",
    "- When using slicing, it is important to remember that the lower index is inclusive and the upper index is exclusive"
   ]
  },
  {
   "cell_type": "markdown",
   "metadata": {},
   "source": [
    "##### Example 1"
   ]
  },
  {
   "cell_type": "code",
   "execution_count": 6,
   "metadata": {},
   "outputs": [
    {
     "name": "stdout",
     "output_type": "stream",
     "text": [
      "[1, 3.4, 'a string', True]\n"
     ]
    }
   ],
   "source": [
    "list_of_random_things = [1, 3.4, 'a string', True]\n",
    "print(list_of_random_things)"
   ]
  },
  {
   "cell_type": "code",
   "execution_count": 7,
   "metadata": {},
   "outputs": [
    {
     "data": {
      "text/plain": [
       "[3.4]"
      ]
     },
     "execution_count": 7,
     "metadata": {},
     "output_type": "execute_result"
    }
   ],
   "source": [
    "# Fetch the first element, because the upper bound is exclusive\n",
    "# Notice this is still different than just indexing a single element, because you get a list back with this indexing. \n",
    "list_of_random_things[1:2]"
   ]
  },
  {
   "cell_type": "code",
   "execution_count": 8,
   "metadata": {},
   "outputs": [
    {
     "data": {
      "text/plain": [
       "[1, 3.4]"
      ]
     },
     "execution_count": 8,
     "metadata": {},
     "output_type": "execute_result"
    }
   ],
   "source": [
    "# If you know that you want to start at the beginning, of the list you can also leave out this value.\n",
    "list_of_random_things[:2]"
   ]
  },
  {
   "cell_type": "code",
   "execution_count": 9,
   "metadata": {},
   "outputs": [
    {
     "data": {
      "text/plain": [
       "['a string', True]"
      ]
     },
     "execution_count": 9,
     "metadata": {},
     "output_type": "execute_result"
    }
   ],
   "source": [
    "# To return all of the elements to the end of the list, we can leave off a final element.\n",
    "list_of_random_things[2:]"
   ]
  },
  {
   "cell_type": "code",
   "execution_count": 10,
   "metadata": {},
   "outputs": [
    {
     "data": {
      "text/plain": [
       "['a string', True]"
      ]
     },
     "execution_count": 10,
     "metadata": {},
     "output_type": "execute_result"
    }
   ],
   "source": [
    "# Fetch last two elements\n",
    "list_of_random_things[-2:]"
   ]
  },
  {
   "cell_type": "markdown",
   "metadata": {},
   "source": [
    "##### Example 2"
   ]
  },
  {
   "cell_type": "code",
   "execution_count": 11,
   "metadata": {},
   "outputs": [
    {
     "data": {
      "text/plain": [
       "['january',\n",
       " 'february',\n",
       " 'march',\n",
       " 'april',\n",
       " 'may',\n",
       " 'june',\n",
       " 'july',\n",
       " 'august',\n",
       " 'september',\n",
       " 'october',\n",
       " 'november',\n",
       " 'december']"
      ]
     },
     "execution_count": 11,
     "metadata": {},
     "output_type": "execute_result"
    }
   ],
   "source": [
    "# Create a list of months\n",
    "months = ['january', 'february', 'march', 'april', 'may', 'june', 'july', 'august', 'september', 'october', 'november', 'december']\n",
    "months"
   ]
  },
  {
   "cell_type": "code",
   "execution_count": 12,
   "metadata": {},
   "outputs": [
    {
     "data": {
      "text/plain": [
       "['july', 'august', 'september']"
      ]
     },
     "execution_count": 12,
     "metadata": {},
     "output_type": "execute_result"
    }
   ],
   "source": [
    "# Slice the third quarter of the month\n",
    "months[6:9]"
   ]
  },
  {
   "cell_type": "code",
   "execution_count": 13,
   "metadata": {},
   "outputs": [
    {
     "data": {
      "text/plain": [
       "['june', 'july', 'august', 'september', 'october', 'november', 'december']"
      ]
     },
     "execution_count": 13,
     "metadata": {},
     "output_type": "execute_result"
    }
   ],
   "source": [
    "# Slice from 6th month and months onwards\n",
    "months[5:]"
   ]
  },
  {
   "cell_type": "code",
   "execution_count": 14,
   "metadata": {},
   "outputs": [
    {
     "data": {
      "text/plain": [
       "['january', 'february', 'march', 'april', 'may']"
      ]
     },
     "execution_count": 14,
     "metadata": {},
     "output_type": "execute_result"
    }
   ],
   "source": [
    "# Print the first 5 months\n",
    "# Notice that the indexing begins from 0 and goes uptil 4, since the upper limit is exclusive\n",
    "months[:5]"
   ]
  },
  {
   "cell_type": "code",
   "execution_count": 15,
   "metadata": {},
   "outputs": [
    {
     "data": {
      "text/plain": [
       "['january',\n",
       " 'february',\n",
       " 'march',\n",
       " 'april',\n",
       " 'may',\n",
       " 'june',\n",
       " 'july',\n",
       " 'august',\n",
       " 'september',\n",
       " 'october',\n",
       " 'november']"
      ]
     },
     "execution_count": 15,
     "metadata": {},
     "output_type": "execute_result"
    }
   ],
   "source": [
    "# Print everything uptil the second last element\n",
    "# -1 index correspons to last element\n",
    "# In our case, the last element is exclusive\n",
    "months[:-1]"
   ]
  },
  {
   "cell_type": "code",
   "execution_count": 16,
   "metadata": {},
   "outputs": [
    {
     "data": {
      "text/plain": [
       "['december']"
      ]
     },
     "execution_count": 16,
     "metadata": {},
     "output_type": "execute_result"
    }
   ],
   "source": [
    "# Print the last element and elements beyong that as well\n",
    "# But, we can not have elements beyond the last element\n",
    "# This means we are essentially printing the last element\n",
    "months[-1:]"
   ]
  },
  {
   "cell_type": "code",
   "execution_count": 17,
   "metadata": {},
   "outputs": [
    {
     "data": {
      "text/plain": [
       "['november', 'december']"
      ]
     },
     "execution_count": 17,
     "metadata": {},
     "output_type": "execute_result"
    }
   ],
   "source": [
    "# Print second last element and elements beyond that\n",
    "# This means we are essentially printing the last two elements\n",
    "months[-2:]"
   ]
  },
  {
   "cell_type": "code",
   "execution_count": 18,
   "metadata": {},
   "outputs": [
    {
     "data": {
      "text/plain": [
       "[]"
      ]
     },
     "execution_count": 18,
     "metadata": {},
     "output_type": "execute_result"
    }
   ],
   "source": [
    "# This will not print any list because indexing has been used in an incorrect manner\n",
    "months[-2:-6]"
   ]
  },
  {
   "cell_type": "code",
   "execution_count": 19,
   "metadata": {},
   "outputs": [
    {
     "data": {
      "text/plain": [
       "['july', 'august', 'september', 'october']"
      ]
     },
     "execution_count": 19,
     "metadata": {},
     "output_type": "execute_result"
    }
   ],
   "source": [
    "# Print 6th last to 3rd last element\n",
    "# In other words, print the 6th last element (inclusive) to second last element (exclusive)\n",
    "months[-6:-2]"
   ]
  },
  {
   "cell_type": "markdown",
   "metadata": {},
   "source": [
    "##### Example 3"
   ]
  },
  {
   "cell_type": "code",
   "execution_count": 20,
   "metadata": {},
   "outputs": [],
   "source": [
    "string = 'This is my string'"
   ]
  },
  {
   "cell_type": "code",
   "execution_count": 21,
   "metadata": {},
   "outputs": [
    {
     "data": {
      "text/plain": [
       "'is is my string'"
      ]
     },
     "execution_count": 21,
     "metadata": {},
     "output_type": "execute_result"
    }
   ],
   "source": [
    "string[2:]"
   ]
  },
  {
   "cell_type": "code",
   "execution_count": 22,
   "metadata": {},
   "outputs": [
    {
     "data": {
      "text/plain": [
       "'This is my strin'"
      ]
     },
     "execution_count": 22,
     "metadata": {},
     "output_type": "execute_result"
    }
   ],
   "source": [
    "string[:-1]"
   ]
  },
  {
   "cell_type": "code",
   "execution_count": 23,
   "metadata": {},
   "outputs": [
    {
     "data": {
      "text/plain": [
       "'s is'"
      ]
     },
     "execution_count": 23,
     "metadata": {},
     "output_type": "execute_result"
    }
   ],
   "source": [
    "string[3:7]"
   ]
  },
  {
   "cell_type": "markdown",
   "metadata": {},
   "source": [
    "#### Are you in OR not in?\n",
    "- in : Evaluates if object on the left side is included in object on right side\n",
    "- not in : Evaluates if object on the left side is not included in object on right side\n",
    "- __in__ and __not in__ to return a bool of whether an element exists within our list"
   ]
  },
  {
   "cell_type": "code",
   "execution_count": 24,
   "metadata": {},
   "outputs": [
    {
     "data": {
      "text/plain": [
       "True"
      ]
     },
     "execution_count": 24,
     "metadata": {},
     "output_type": "execute_result"
    }
   ],
   "source": [
    "5 in [1, 2, 3, 4, 5]"
   ]
  },
  {
   "cell_type": "code",
   "execution_count": 25,
   "metadata": {},
   "outputs": [
    {
     "data": {
      "text/plain": [
       "True"
      ]
     },
     "execution_count": 25,
     "metadata": {},
     "output_type": "execute_result"
    }
   ],
   "source": [
    "5 in [1, 2, 3, 4, 5.0]"
   ]
  },
  {
   "cell_type": "code",
   "execution_count": 26,
   "metadata": {},
   "outputs": [
    {
     "data": {
      "text/plain": [
       "False"
      ]
     },
     "execution_count": 26,
     "metadata": {},
     "output_type": "execute_result"
    }
   ],
   "source": [
    "5 not in [1, 2, 3, 4, 5]"
   ]
  },
  {
   "cell_type": "code",
   "execution_count": 27,
   "metadata": {},
   "outputs": [
    {
     "data": {
      "text/plain": [
       "True"
      ]
     },
     "execution_count": 27,
     "metadata": {},
     "output_type": "execute_result"
    }
   ],
   "source": [
    "'this' in 'this is a string'"
   ]
  },
  {
   "cell_type": "code",
   "execution_count": 28,
   "metadata": {},
   "outputs": [
    {
     "data": {
      "text/plain": [
       "True"
      ]
     },
     "execution_count": 28,
     "metadata": {},
     "output_type": "execute_result"
    }
   ],
   "source": [
    "'in' in 'this is a string'"
   ]
  },
  {
   "cell_type": "code",
   "execution_count": 29,
   "metadata": {},
   "outputs": [
    {
     "data": {
      "text/plain": [
       "False"
      ]
     },
     "execution_count": 29,
     "metadata": {},
     "output_type": "execute_result"
    }
   ],
   "source": [
    "'isa' in 'this is a string'"
   ]
  },
  {
   "cell_type": "markdown",
   "metadata": {},
   "source": [
    "#### Mutability and Order\n",
    "- Mutability is about whether or not we can change an object once it has been created\n",
    "- If an object can be changed, then it is called __mutable__\n",
    "- If an object cannot be changed once it has been created, it is called __immutable__\n",
    "- Both Lists and Strings are ordered\n",
    "- Lists are mutable but Strings are not mutuable"
   ]
  },
  {
   "cell_type": "code",
   "execution_count": 30,
   "metadata": {},
   "outputs": [
    {
     "name": "stdout",
     "output_type": "stream",
     "text": [
      "[1, 2, 3, 4, 5]\n",
      "['one', 2, 3, 4, 5]\n"
     ]
    }
   ],
   "source": [
    "my_list = [1, 2, 3, 4, 5]\n",
    "print(my_list)\n",
    "my_list[0] = 'one'\n",
    "print(my_list)"
   ]
  },
  {
   "cell_type": "code",
   "execution_count": 31,
   "metadata": {},
   "outputs": [
    {
     "name": "stdout",
     "output_type": "stream",
     "text": [
      "Hello There\n"
     ]
    }
   ],
   "source": [
    "greeting = 'Hello There'\n",
    "print(greeting)\n",
    "# greeting[0] = 'M'\n",
    "# print(greeting) throws an error, because Strings are not mutable\n",
    "# This means to change this string, you will need to create a completely new string."
   ]
  },
  {
   "cell_type": "markdown",
   "metadata": {},
   "source": [
    "### 2. Functions & Methods for Lists"
   ]
  },
  {
   "cell_type": "code",
   "execution_count": 32,
   "metadata": {},
   "outputs": [
    {
     "name": "stdout",
     "output_type": "stream",
     "text": [
      "This is my name\n",
      "This is my name\n",
      "New Name\n",
      "This is my name\n"
     ]
    }
   ],
   "source": [
    "# Previously on Strings\n",
    "name = 'This is my name'\n",
    "student = name\n",
    "print(name)\n",
    "print(student)\n",
    "name = 'New Name'\n",
    "print(name)\n",
    "print(student) # stored in memory"
   ]
  },
  {
   "cell_type": "code",
   "execution_count": 33,
   "metadata": {},
   "outputs": [
    {
     "name": "stdout",
     "output_type": "stream",
     "text": [
      "scores: ['B', 'C', 'A', 'D', 'B', 'A']\n",
      "grades: ['B', 'C', 'A', 'D', 'B', 'A']\n",
      "scores: ['B', 'C', 'A', 'B', 'B', 'A']\n",
      "grades: ['B', 'C', 'A', 'B', 'B', 'A']\n"
     ]
    }
   ],
   "source": [
    "# Lists\n",
    "scores = ['B', 'C', 'A', 'D', 'B', 'A']\n",
    "grades = scores\n",
    "print('scores:', scores)\n",
    "print('grades:', grades)\n",
    "scores[3] = 'B' # Changing the 4th element of the list\n",
    "print('scores:', scores)\n",
    "print('grades:', grades) # Lists are mutable"
   ]
  },
  {
   "cell_type": "markdown",
   "metadata": {},
   "source": [
    "#### Useful Functions of Lists:\n",
    "- __len()__ : returns how many elements are there in a list\n",
    "- __max()__ : returns the greatest element of the list. How the greatest element is determined depends on what type objects are in the list. \n",
    "    - The maximum element in a list of __numbers__ is the largest number. \n",
    "    - The maximum elements in a list of __strings__ is element that would occur last if the list were sorted alphabetically. \n",
    "- __min()__ : returns the smallest element of the list.\n",
    "    - min is the opposite of max, which returns the largest element in a list.\n",
    "- __sorted()__ : returns a copy of a list in order from smallest to largest, leaving the list unchanged.\n"
   ]
  },
  {
   "cell_type": "code",
   "execution_count": 34,
   "metadata": {},
   "outputs": [
    {
     "data": {
      "text/plain": [
       "7"
      ]
     },
     "execution_count": 34,
     "metadata": {},
     "output_type": "execute_result"
    }
   ],
   "source": [
    "my_list = [15, 16, 29, 303, -303003, 3883, 'xyz']\n",
    "len(my_list)"
   ]
  },
  {
   "cell_type": "code",
   "execution_count": 35,
   "metadata": {},
   "outputs": [
    {
     "name": "stdout",
     "output_type": "stream",
     "text": [
      "Reticulated Python\n",
      "African Rock Python\n"
     ]
    }
   ],
   "source": [
    "# Maximum and Minumum in a list of Strings\n",
    "names = ['Burmese Python', 'African Rock Python', 'Ball Python', 'Reticulated Python']\n",
    "print(max(names))\n",
    "print(min(names))"
   ]
  },
  {
   "cell_type": "code",
   "execution_count": 36,
   "metadata": {},
   "outputs": [
    {
     "name": "stdout",
     "output_type": "stream",
     "text": [
      "23939\n",
      "-9\n"
     ]
    }
   ],
   "source": [
    "# Maximum and Minumum in a list of Numbers\n",
    "my_list = [1, 3, 5985, 23939, 4, -9]\n",
    "print(max(my_list))\n",
    "print(min(my_list))"
   ]
  },
  {
   "cell_type": "code",
   "execution_count": 37,
   "metadata": {},
   "outputs": [
    {
     "name": "stdout",
     "output_type": "stream",
     "text": [
      "[6, 15, 34, 35, 65, 89]\n",
      "[15, 6, 89, 34, 65, 35]\n"
     ]
    }
   ],
   "source": [
    "# Sorting in descending order\n",
    "# Leaving the original list unchanged\n",
    "sizes = [15, 6, 89, 34, 65, 35]\n",
    "print(sorted(sizes))\n",
    "print(sizes)"
   ]
  },
  {
   "cell_type": "code",
   "execution_count": 38,
   "metadata": {},
   "outputs": [
    {
     "name": "stdout",
     "output_type": "stream",
     "text": [
      "[89, 65, 35, 34, 15, 6]\n",
      "[15, 6, 89, 34, 65, 35]\n"
     ]
    }
   ],
   "source": [
    "# Sorting in descending order\n",
    "# Leaving the original list unchanged\n",
    "sizes = [15, 6, 89, 34, 65, 35]\n",
    "print(sorted(sizes, reverse = True))\n",
    "print(sizes)"
   ]
  },
  {
   "cell_type": "markdown",
   "metadata": {},
   "source": [
    "#### Useful methods of Lists\n",
    "- __join()__ : Join is a string method that takes a list of strings as an argument, and returns a string consisting of the list elements joined by a separator string.\n",
    "- __append()__ : It adds an element to the end of a list. (Just one element)\n",
    "- __extend()__ : It adds more than one element to the end of a list"
   ]
  },
  {
   "cell_type": "code",
   "execution_count": 39,
   "metadata": {},
   "outputs": [
    {
     "name": "stdout",
     "output_type": "stream",
     "text": [
      "My\n",
      "name\n",
      "is\n",
      "xyz\n"
     ]
    }
   ],
   "source": [
    "# \\n is used for new line\n",
    "names = ['My', 'name', 'is', 'xyz']\n",
    "print('\\n'.join(names))"
   ]
  },
  {
   "cell_type": "code",
   "execution_count": 40,
   "metadata": {},
   "outputs": [
    {
     "name": "stdout",
     "output_type": "stream",
     "text": [
      "My-name-is-xyz\n"
     ]
    }
   ],
   "source": [
    "names = ['My', 'name', 'is', 'xyz']\n",
    "print('-'.join(names))"
   ]
  },
  {
   "cell_type": "code",
   "execution_count": 41,
   "metadata": {},
   "outputs": [
    {
     "name": "stdout",
     "output_type": "stream",
     "text": [
      "item1 and item2 and item3\n",
      "item1, item2, item3\n",
      "item1 item2 item3\n"
     ]
    }
   ],
   "source": [
    "my_stuff = ['item1', 'item2', 'item3']\n",
    "print(' and '.join(my_stuff))\n",
    "print(', '.join(my_stuff))\n",
    "print(' '.join(my_stuff))"
   ]
  },
  {
   "cell_type": "code",
   "execution_count": 42,
   "metadata": {},
   "outputs": [
    {
     "name": "stdout",
     "output_type": "stream",
     "text": [
      "['a', 'b', 'c', 'd']\n",
      "['a', 'b', 'c', 'd', 'z']\n"
     ]
    }
   ],
   "source": [
    "letters = ['a', 'b', 'c', 'd']\n",
    "print(letters)\n",
    "letters.append('z')\n",
    "print(letters)"
   ]
  },
  {
   "cell_type": "code",
   "execution_count": 43,
   "metadata": {},
   "outputs": [
    {
     "name": "stdout",
     "output_type": "stream",
     "text": [
      "['a', 'b', 'c', 'd', 'x']\n"
     ]
    }
   ],
   "source": [
    "# Note append add one element to the list, whereas extend add more than one element to the list\n",
    "my_letters = ['a', 'b', 'c', 'd']\n",
    "new_letters = 'x'\n",
    "my_letters.append(new_letters)\n",
    "print(my_letters)"
   ]
  },
  {
   "cell_type": "code",
   "execution_count": 44,
   "metadata": {},
   "outputs": [
    {
     "name": "stdout",
     "output_type": "stream",
     "text": [
      "['a', 'b', 'c', 'd', ['x', 'y', 'z']]\n"
     ]
    }
   ],
   "source": [
    "my_letters = ['a', 'b', 'c', 'd']\n",
    "new_letters = ['x', 'y', 'z']\n",
    "my_letters.append(new_letters)\n",
    "print(my_letters)"
   ]
  },
  {
   "cell_type": "code",
   "execution_count": 45,
   "metadata": {},
   "outputs": [
    {
     "name": "stdout",
     "output_type": "stream",
     "text": [
      "['a', 'b', 'c', 'd', 'x', 'y', 'z']\n"
     ]
    }
   ],
   "source": [
    "my_letters = ['a', 'b', 'c', 'd']\n",
    "new_letters = ['x', 'y', 'z']\n",
    "my_letters.extend(new_letters)\n",
    "print(my_letters)"
   ]
  },
  {
   "cell_type": "markdown",
   "metadata": {},
   "source": [
    "### 3. Tuples"
   ]
  },
  {
   "cell_type": "markdown",
   "metadata": {},
   "source": [
    "A tuple is another useful container. They can be created by using parentheses. The __parentheses are optional__ when defining tuples.\n",
    "- Tuples are similar to lists in that they store an __ordered__ collection of objects which can be accessed by their indices.\n",
    "- Unlike lists, however, tuples are __immutable__ - you can't add and remove items from tuples, or sort them in place.\n",
    "- Tuples are useful when two or more values that are so realted, that mostly used together. Eg: Location co-ordinates.\n",
    "- Tuples can also be used to assign multiple variables in a compact way."
   ]
  },
  {
   "cell_type": "code",
   "execution_count": 46,
   "metadata": {},
   "outputs": [
    {
     "name": "stdout",
     "output_type": "stream",
     "text": [
      "Latitude: 13.4125\n",
      "Longitude: 103.866667\n",
      "<class 'tuple'>\n",
      "(13.4125, 103.866667)\n"
     ]
    }
   ],
   "source": [
    "location = (13.4125, 103.866667)\n",
    "print('Latitude:', location[0])\n",
    "print('Longitude:', location[1])\n",
    "print(type(location))\n",
    "print(location)"
   ]
  },
  {
   "cell_type": "code",
   "execution_count": 47,
   "metadata": {},
   "outputs": [
    {
     "name": "stdout",
     "output_type": "stream",
     "text": [
      "The dimensions are 52 x 40 x 100\n",
      "<class 'tuple'>\n",
      "(52, 40, 100)\n"
     ]
    }
   ],
   "source": [
    "dimensions = 52, 40, 100\n",
    "length, width, height = dimensions\n",
    "# In the second line, three variables are assigned from the content of the tuple dimensions. This is called tuple unpacking.\n",
    "print(\"The dimensions are {} x {} x {}\".format(length, width, height))\n",
    "print(type(dimensions))\n",
    "print(dimensions)"
   ]
  },
  {
   "cell_type": "markdown",
   "metadata": {},
   "source": [
    "### 4. Sets"
   ]
  },
  {
   "cell_type": "markdown",
   "metadata": {},
   "source": [
    "A set is a data type for __mutable unordered__ collections of __unique__ elements. Sets are __unordered__ so there is __no last element in the set.__"
   ]
  },
  {
   "cell_type": "markdown",
   "metadata": {},
   "source": [
    "- One application of a set is to quickly remove duplicates from a list."
   ]
  },
  {
   "cell_type": "code",
   "execution_count": 48,
   "metadata": {},
   "outputs": [
    {
     "name": "stdout",
     "output_type": "stream",
     "text": [
      "{1, 2, 3, 6}\n"
     ]
    }
   ],
   "source": [
    "numbers = [1, 2, 6, 3, 1, 1, 6]\n",
    "unique_nums = set(numbers)\n",
    "print(unique_nums)"
   ]
  },
  {
   "cell_type": "markdown",
   "metadata": {},
   "source": [
    "#### in operator"
   ]
  },
  {
   "cell_type": "code",
   "execution_count": 49,
   "metadata": {},
   "outputs": [
    {
     "name": "stdout",
     "output_type": "stream",
     "text": [
      "False\n"
     ]
    }
   ],
   "source": [
    "fruits = {'apple', 'banana', 'orange', 'grapefruit'}\n",
    "print('watermelon' in fruits)"
   ]
  },
  {
   "cell_type": "markdown",
   "metadata": {},
   "source": [
    "#### Methods\n",
    "- add\n",
    "- pop"
   ]
  },
  {
   "cell_type": "code",
   "execution_count": 50,
   "metadata": {},
   "outputs": [
    {
     "name": "stdout",
     "output_type": "stream",
     "text": [
      "{'apple', 'banana', 'watermelon', 'orange', 'grapefruit'}\n"
     ]
    }
   ],
   "source": [
    "# Add an element\n",
    "fruits.add('watermelon')\n",
    "print(fruits)"
   ]
  },
  {
   "cell_type": "code",
   "execution_count": 51,
   "metadata": {},
   "outputs": [
    {
     "name": "stdout",
     "output_type": "stream",
     "text": [
      "{'banana', 'watermelon', 'orange', 'grapefruit'}\n"
     ]
    }
   ],
   "source": [
    "# Remove a random element\n",
    "# Although, when you pop an element from a set, a random element is removed.\n",
    "fruits.pop()\n",
    "print(fruits)"
   ]
  },
  {
   "cell_type": "markdown",
   "metadata": {},
   "source": [
    "### 5. Dictionaries And Identity Operators"
   ]
  },
  {
   "cell_type": "markdown",
   "metadata": {},
   "source": [
    "- A dictionary is a __mutable__ data type that stores mappings of __unique keys to values__.\n",
    "- Dictionaries can have keys of any immutable type, like integers or tuples, not just strings. It's not even necessary for every key to have the same type! "
   ]
  },
  {
   "cell_type": "code",
   "execution_count": 52,
   "metadata": {},
   "outputs": [
    {
     "name": "stdout",
     "output_type": "stream",
     "text": [
      "{'hydrogen': 1, 'helium': 2, 'carbon': 6}\n"
     ]
    }
   ],
   "source": [
    "elements = {'hydrogen' : 1, 'helium' : 2, 'carbon' : 6}\n",
    "print(elements)"
   ]
  },
  {
   "cell_type": "code",
   "execution_count": 53,
   "metadata": {},
   "outputs": [
    {
     "name": "stdout",
     "output_type": "stream",
     "text": [
      "{'hydrogen': 1, 'helium': 2, 'carbon': 6, 'lithium': 3}\n"
     ]
    }
   ],
   "source": [
    "elements['lithium'] = 3\n",
    "print(elements)"
   ]
  },
  {
   "cell_type": "code",
   "execution_count": 54,
   "metadata": {},
   "outputs": [
    {
     "name": "stdout",
     "output_type": "stream",
     "text": [
      "{'hydrogen': 1, 'helium': 2, 'carbon': 6, 'lithium': 3, 8: 6}\n"
     ]
    }
   ],
   "source": [
    "elements[8] = 6\n",
    "print(elements)"
   ]
  },
  {
   "cell_type": "code",
   "execution_count": 55,
   "metadata": {},
   "outputs": [
    {
     "name": "stdout",
     "output_type": "stream",
     "text": [
      "{'hydrogen': 1, 'helium': 2, 'carbon': 6, 'lithium': 3, 8: 6, 10: '10'}\n"
     ]
    }
   ],
   "source": [
    "elements[10] = '10'\n",
    "print(elements)"
   ]
  },
  {
   "cell_type": "markdown",
   "metadata": {},
   "source": [
    "#### in Operator\n",
    "- We can check whether a value is in a dictionary the same way we check whether a value is in a list or set with the in keyword. "
   ]
  },
  {
   "cell_type": "code",
   "execution_count": 56,
   "metadata": {},
   "outputs": [
    {
     "name": "stdout",
     "output_type": "stream",
     "text": [
      "True\n",
      "False\n"
     ]
    }
   ],
   "source": [
    "print('carbon' in elements)\n",
    "print('dilithium' in elements)"
   ]
  },
  {
   "cell_type": "markdown",
   "metadata": {},
   "source": [
    "#### get method"
   ]
  },
  {
   "cell_type": "code",
   "execution_count": 57,
   "metadata": {},
   "outputs": [
    {
     "name": "stdout",
     "output_type": "stream",
     "text": [
      "6\n",
      "None\n"
     ]
    }
   ],
   "source": [
    "print(elements.get('carbon')) \n",
    "# Carbon is in the dictionary, so True is printed.\n",
    "print(elements.get('dilithium'))\n",
    "# Dilithium isn’t in our dictionary so None is returned by get and then printed."
   ]
  },
  {
   "cell_type": "markdown",
   "metadata": {},
   "source": [
    "#### Identity Operators\n",
    "- __is__ : evaluates if both sides have the same identity\n",
    "- __is not__ : evaluates if both sides have different identities"
   ]
  },
  {
   "cell_type": "code",
   "execution_count": 58,
   "metadata": {},
   "outputs": [
    {
     "name": "stdout",
     "output_type": "stream",
     "text": [
      "True\n",
      "False\n"
     ]
    }
   ],
   "source": [
    "n = elements.get('dilithium')\n",
    "print(n is None)\n",
    "print(n is not None)"
   ]
  },
  {
   "cell_type": "code",
   "execution_count": 59,
   "metadata": {},
   "outputs": [
    {
     "name": "stdout",
     "output_type": "stream",
     "text": [
      "2996868849280\n",
      "2996868849280\n",
      "2996868849408\n",
      "True\n",
      "True\n",
      "True\n",
      "False\n"
     ]
    }
   ],
   "source": [
    "a = [1, 2, 3]\n",
    "b = a\n",
    "c = [1, 2, 3]\n",
    "print(id(a))\n",
    "print(id(b))\n",
    "print(id(c))\n",
    "# a and b are equal and identical\n",
    "# a and c are equal but not identical\n",
    "print(a == b)\n",
    "print(a is b)\n",
    "print(a == c)\n",
    "print(a is c)"
   ]
  },
  {
   "cell_type": "code",
   "execution_count": 60,
   "metadata": {},
   "outputs": [],
   "source": [
    "animals = {'dogs': [20, 10, 15, 8, 32, 15], \n",
    "           'cats': [3,4,2,8,2,4],\n",
    "           'rabbits': [2, 3, 3],\n",
    "           'fish': [0.3, 0.5, 0.8, 0.3, 1]}"
   ]
  },
  {
   "cell_type": "code",
   "execution_count": 61,
   "metadata": {},
   "outputs": [
    {
     "data": {
      "text/plain": [
       "[20, 10, 15, 8, 32, 15]"
      ]
     },
     "execution_count": 61,
     "metadata": {},
     "output_type": "execute_result"
    }
   ],
   "source": [
    "animals['dogs']"
   ]
  },
  {
   "cell_type": "code",
   "execution_count": 62,
   "metadata": {},
   "outputs": [
    {
     "data": {
      "text/plain": [
       "8"
      ]
     },
     "execution_count": 62,
     "metadata": {},
     "output_type": "execute_result"
    }
   ],
   "source": [
    "animals['dogs'][3]"
   ]
  },
  {
   "cell_type": "code",
   "execution_count": 63,
   "metadata": {},
   "outputs": [],
   "source": [
    "# this will throw an error\n",
    "# animals[3]"
   ]
  },
  {
   "cell_type": "markdown",
   "metadata": {},
   "source": [
    "### 6. Compound Data Structures"
   ]
  },
  {
   "cell_type": "markdown",
   "metadata": {},
   "source": [
    "- We can include containers in other containers to create compound data structures.\n",
    "- dictionary has key-value pair, this value can again be key-value pair "
   ]
  },
  {
   "cell_type": "code",
   "execution_count": 64,
   "metadata": {},
   "outputs": [
    {
     "name": "stdout",
     "output_type": "stream",
     "text": [
      "{'hydrogen': {'number': 1, 'weight': 1.00794, 'symbol': 'H'}, 'helium': {'number': 2, 'weight': 4.002602, 'symbol': 'He'}}\n"
     ]
    }
   ],
   "source": [
    "elements = {'hydrogen': {'number' : 1,\n",
    "                        'weight' : 1.00794,\n",
    "                        'symbol' : 'H'},\n",
    "           'helium':{'number' : 2,\n",
    "                        'weight' : 4.002602,\n",
    "                        'symbol' : 'He'}}\n",
    "print(elements)"
   ]
  },
  {
   "cell_type": "code",
   "execution_count": 65,
   "metadata": {},
   "outputs": [
    {
     "name": "stdout",
     "output_type": "stream",
     "text": [
      "{'number': 2, 'weight': 4.002602, 'symbol': 'He'}\n",
      "4.002602\n"
     ]
    }
   ],
   "source": [
    "# Get the helium dictionary\n",
    "print(elements['helium'])\n",
    "# Get hydrogen's weight\n",
    "print(elements['helium']['weight'])"
   ]
  },
  {
   "cell_type": "code",
   "execution_count": 66,
   "metadata": {},
   "outputs": [
    {
     "name": "stdout",
     "output_type": "stream",
     "text": [
      "{'number': 8, 'weight': 15.999, 'symbol': 'O'}\n",
      "{'hydrogen': {'number': 1, 'weight': 1.00794, 'symbol': 'H'}, 'helium': {'number': 2, 'weight': 4.002602, 'symbol': 'He'}, 'oxygen': {'number': 8, 'weight': 15.999, 'symbol': 'O'}}\n"
     ]
    }
   ],
   "source": [
    "# Create a new oxygen dictionary \n",
    "oxygen = {\"number\":8,\"weight\":15.999,\"symbol\":\"O\"}\n",
    "print(oxygen)\n",
    "# Assign 'oxygen' as a key to the elements dictionary\n",
    "elements['oxygen'] = oxygen\n",
    "print(elements)"
   ]
  },
  {
   "cell_type": "code",
   "execution_count": 67,
   "metadata": {},
   "outputs": [
    {
     "data": {
      "text/plain": [
       "['', 'This', 'is']"
      ]
     },
     "execution_count": 67,
     "metadata": {},
     "output_type": "execute_result"
    }
   ],
   "source": [
    "my = ' This is'\n",
    "my.split(' ')"
   ]
  },
  {
   "attachments": {
    "image.png": {
     "image/png": "[encoded data removed]"
    }
   },
   "cell_type": "markdown",
   "metadata": {},
   "source": [
    "#### Summary\n",
    "- __*__ You can use curly braces to define a set like this: {1, 2, 3}. However, if you leave the curly braces empty like this: {} Python will instead create an empty dictionary. So to create an empty set, use set().\n",
    "- __**__ A dictionary itself is mutable, but each of its individual keys must be immutable.\n",
    "![image.png](attachment:image.png)"
   ]
  }
 ],
 "metadata": {
  "kernelspec": {
   "display_name": "Python 3",
   "language": "python",
   "name": "python3"
  },
  "language_info": {
   "codemirror_mode": {
    "name": "ipython",
    "version": 3
   },
   "file_extension": ".py",
   "mimetype": "text/x-python",
   "name": "python",
   "nbconvert_exporter": "python",
   "pygments_lexer": "ipython3",
   "version": "3.8.5"
  }
 },
 "nbformat": 4,
 "nbformat_minor": 4
}
